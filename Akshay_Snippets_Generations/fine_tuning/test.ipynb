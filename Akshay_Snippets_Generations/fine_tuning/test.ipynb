{
 "cells": [
  {
   "cell_type": "code",
   "execution_count": null,
   "metadata": {},
   "outputs": [
    {
     "ename": "",
     "evalue": "",
     "output_type": "error",
     "traceback": [
      "\u001b[1;31mRunning cells with 'Python 3.11.6' requires the ipykernel package.\n",
      "\u001b[1;31mRun the following command to install 'ipykernel' into the Python environment. \n",
      "\u001b[1;31mCommand: '/bin/python3 -m pip install ipykernel -U --user --force-reinstall'"
     ]
    }
   ],
   "source": [
    "value =\" \\\\n                           \\\\\\\"Thought\\\\\\\" : \\\\\\\"I need to extract experience-rich sentence from user review text based on given specification.\\\\\\\",\\\\n                           \\\\\\\"Action\\\\\\\" : \\\\\\\"Find[Finding a text sentence from the review based on specification]\\\\\\\",\\\\n                           \\\\\\\"Observation\\\\\\\" : \\\\\\\"I could extract one sentence based on specification -- breathability of knee-braces. The sentence i extracted is -- 'The material is breathable and soft against the skin.'\\\\\\\",\\\\n                           \\\\\\\"Thought\\\\\\\" : \\\\\\\"I have found one sentence. I need to check if it is experience-rich\\\\\\\",\\\\n                           \\\\\\\"Action\\\\\\\" : \\\\\\\"Check experience-rich[Checking if the found sentence is experience-rich or not?]\\\\\\\",\\\\n                           \\\\\\\"Observation\\\\\\\": \\\\\\\"In the sentence, the user mentioned that the material is breathable and soft against the skin. This has come out of user experience and it also includes the specific information like material is breathable. Thus, it is an experience rich sentence.\\\\\\\",\\\\n                           \\\\\\\"Thought\\\\\\\" : \\\\\\\"I have found one experience-rich sentence. I should give final answer with the 1 experience-rich sentence.\\\\\\\",\\\\n                           \\\\\\\"Final answer\\\\\\\" : [{\\\\\\\"feature\\\\\\\":\\\\\\\"breathability of knee-braces\\\\\\\", \\\\\\\"actual_sentence_extracted\\\\\\\":\\\\\\\"The material is breathable and soft against the skin.\\\\\\\", \\\\\\\"rephrased_it(without experience & observation)\\\\\\\":\\\\\\\"The user mentioned that the material of the knee-braces is breathable and soft against the skin.\\\\\\\", \\\\\\\"sentiment\\\\\\\":\\\\\\\"positive\\\\\\\"}]\\\\n \"\n",
    "print(value)"
   ]
  }
 ],
 "metadata": {
  "kernelspec": {
   "display_name": "Python 3",
   "language": "python",
   "name": "python3"
  },
  "language_info": {
   "name": "python",
   "version": "3.11.6"
  }
 },
 "nbformat": 4,
 "nbformat_minor": 2
}
